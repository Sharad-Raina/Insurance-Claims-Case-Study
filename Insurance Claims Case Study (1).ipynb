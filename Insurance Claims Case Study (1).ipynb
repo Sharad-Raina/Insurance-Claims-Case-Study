{
 "cells": [
  {
   "cell_type": "code",
   "execution_count": 12,
   "id": "a5807b77",
   "metadata": {},
   "outputs": [],
   "source": [
    "import numpy as np\n",
    "import pandas as pd\n",
    "import matplotlib.pyplot as plt\n",
    "import seaborn as sns\n",
    "import scipy.stats as stats\n",
    "import statsmodels.formula.api as smf\n",
    "import sklearn\n",
    "from sklearn.model_selection import train_test_split\n",
    "from sklearn.metrics import r2_score, mean_absolute_error, mean_absolute_percentage_error, mean_squared_error\n",
    "from sklearn.linear_model import LinearRegression"
   ]
  },
  {
   "cell_type": "code",
   "execution_count": 13,
   "id": "35762fbd",
   "metadata": {},
   "outputs": [
    {
     "data": {
      "text/html": [
       "<div>\n",
       "<style scoped>\n",
       "    .dataframe tbody tr th:only-of-type {\n",
       "        vertical-align: middle;\n",
       "    }\n",
       "\n",
       "    .dataframe tbody tr th {\n",
       "        vertical-align: top;\n",
       "    }\n",
       "\n",
       "    .dataframe thead th {\n",
       "        text-align: right;\n",
       "    }\n",
       "</style>\n",
       "<table border=\"1\" class=\"dataframe\">\n",
       "  <thead>\n",
       "    <tr style=\"text-align: right;\">\n",
       "      <th></th>\n",
       "      <th>CUST_ID</th>\n",
       "      <th>gender</th>\n",
       "      <th>DateOfBirth</th>\n",
       "      <th>State</th>\n",
       "      <th>Contact</th>\n",
       "      <th>Segment</th>\n",
       "    </tr>\n",
       "  </thead>\n",
       "  <tbody>\n",
       "    <tr>\n",
       "      <th>0</th>\n",
       "      <td>21868593</td>\n",
       "      <td>Female</td>\n",
       "      <td>12-Jan-79</td>\n",
       "      <td>VT</td>\n",
       "      <td>789-916-8172</td>\n",
       "      <td>Platinum</td>\n",
       "    </tr>\n",
       "    <tr>\n",
       "      <th>1</th>\n",
       "      <td>75740424</td>\n",
       "      <td>Female</td>\n",
       "      <td>13-Jan-70</td>\n",
       "      <td>ME</td>\n",
       "      <td>265-543-1264</td>\n",
       "      <td>Silver</td>\n",
       "    </tr>\n",
       "  </tbody>\n",
       "</table>\n",
       "</div>"
      ],
      "text/plain": [
       "    CUST_ID  gender DateOfBirth State       Contact   Segment\n",
       "0  21868593  Female   12-Jan-79    VT  789-916-8172  Platinum\n",
       "1  75740424  Female   13-Jan-70    ME  265-543-1264    Silver"
      ]
     },
     "execution_count": 13,
     "metadata": {},
     "output_type": "execute_result"
    }
   ],
   "source": [
    "cs = pd.read_csv(r\"C:\\Users\\ifixthat\\Downloads\\Compressed\\PYTHON\\PYTHON Insurance case study\\Case Study 3 - Insurance Claims Case Study\\cust_demographics.csv\")\n",
    "cs.head(2)\n"
   ]
  },
  {
   "cell_type": "code",
   "execution_count": 14,
   "id": "3edfee61",
   "metadata": {},
   "outputs": [
    {
     "data": {
      "text/html": [
       "<div>\n",
       "<style scoped>\n",
       "    .dataframe tbody tr th:only-of-type {\n",
       "        vertical-align: middle;\n",
       "    }\n",
       "\n",
       "    .dataframe tbody tr th {\n",
       "        vertical-align: top;\n",
       "    }\n",
       "\n",
       "    .dataframe thead th {\n",
       "        text-align: right;\n",
       "    }\n",
       "</style>\n",
       "<table border=\"1\" class=\"dataframe\">\n",
       "  <thead>\n",
       "    <tr style=\"text-align: right;\">\n",
       "      <th></th>\n",
       "      <th>claim_id</th>\n",
       "      <th>customer_id</th>\n",
       "      <th>incident_cause</th>\n",
       "      <th>claim_date</th>\n",
       "      <th>claim_area</th>\n",
       "      <th>police_report</th>\n",
       "      <th>claim_type</th>\n",
       "      <th>claim_amount</th>\n",
       "      <th>total_policy_claims</th>\n",
       "      <th>fraudulent</th>\n",
       "    </tr>\n",
       "  </thead>\n",
       "  <tbody>\n",
       "    <tr>\n",
       "      <th>0</th>\n",
       "      <td>54004764</td>\n",
       "      <td>21868593</td>\n",
       "      <td>Driver error</td>\n",
       "      <td>11/27/2017</td>\n",
       "      <td>Auto</td>\n",
       "      <td>No</td>\n",
       "      <td>Material only</td>\n",
       "      <td>$2980</td>\n",
       "      <td>1.0</td>\n",
       "      <td>No</td>\n",
       "    </tr>\n",
       "    <tr>\n",
       "      <th>1</th>\n",
       "      <td>33985796</td>\n",
       "      <td>75740424</td>\n",
       "      <td>Crime</td>\n",
       "      <td>10/03/2018</td>\n",
       "      <td>Home</td>\n",
       "      <td>Unknown</td>\n",
       "      <td>Material only</td>\n",
       "      <td>$2980</td>\n",
       "      <td>3.0</td>\n",
       "      <td>No</td>\n",
       "    </tr>\n",
       "  </tbody>\n",
       "</table>\n",
       "</div>"
      ],
      "text/plain": [
       "   claim_id  customer_id incident_cause  claim_date claim_area police_report  \\\n",
       "0  54004764     21868593   Driver error  11/27/2017       Auto            No   \n",
       "1  33985796     75740424          Crime  10/03/2018       Home       Unknown   \n",
       "\n",
       "      claim_type claim_amount  total_policy_claims fraudulent  \n",
       "0  Material only        $2980                  1.0         No  \n",
       "1  Material only        $2980                  3.0         No  "
      ]
     },
     "execution_count": 14,
     "metadata": {},
     "output_type": "execute_result"
    }
   ],
   "source": [
    "cld = pd.read_csv(r\"C:\\Users\\ifixthat\\Downloads\\Compressed\\PYTHON\\PYTHON Insurance case study\\Case Study 3 - Insurance Claims Case Study\\claims.csv\")\n",
    "cld.head(2)\n"
   ]
  },
  {
   "cell_type": "code",
   "execution_count": 15,
   "id": "2a61182d",
   "metadata": {},
   "outputs": [],
   "source": [
    "cld_cs = cs.merge(cld , how = 'inner' , right_on ='customer_id' , left_on = 'CUST_ID')\n",
    "cld_cs.drop(columns = 'customer_id' , inplace = True)"
   ]
  },
  {
   "cell_type": "markdown",
   "id": "78cabdca",
   "metadata": {},
   "source": [
    "### ***2. Perform a data audit for the datatypes and find out if there are any mismatch within the current datatypes of the columns and their  business significance.***"
   ]
  },
  {
   "cell_type": "code",
   "execution_count": 16,
   "id": "e3b0d03f",
   "metadata": {},
   "outputs": [],
   "source": [
    "cld_cs[['CUST_ID','claim_id']] = cld_cs[['CUST_ID','claim_id']].astype(object)"
   ]
  },
  {
   "cell_type": "code",
   "execution_count": 17,
   "id": "773df033",
   "metadata": {},
   "outputs": [],
   "source": [
    "cld_cs[['DateOfBirth', 'claim_date']] = cld_cs[['DateOfBirth', 'claim_date']].apply(lambda x : pd.to_datetime(x) ) "
   ]
  },
  {
   "cell_type": "markdown",
   "id": "ffe6deb8",
   "metadata": {},
   "source": [
    "### ***3. Convert the column claim_amount to numeric. Use the appropriate                                                  modules/attributes to remove the $ sign.***"
   ]
  },
  {
   "cell_type": "code",
   "execution_count": 18,
   "id": "db37bdb8",
   "metadata": {},
   "outputs": [
    {
     "name": "stderr",
     "output_type": "stream",
     "text": [
      "C:\\Users\\ifixthat\\AppData\\Local\\Temp\\ipykernel_11372\\869477614.py:1: FutureWarning: The default value of regex will change from True to False in a future version. In addition, single character regular expressions will *not* be treated as literal strings when regex=True.\n",
      "  cld_cs.claim_amount = cld_cs.claim_amount.str.replace('$',' ', )\n"
     ]
    }
   ],
   "source": [
    "cld_cs.claim_amount = cld_cs.claim_amount.str.replace('$',' ', )"
   ]
  },
  {
   "cell_type": "code",
   "execution_count": 19,
   "id": "1f5ddb0f",
   "metadata": {},
   "outputs": [],
   "source": [
    "cld_cs.claim_amount = cld_cs.claim_amount.astype('float64')"
   ]
  },
  {
   "cell_type": "markdown",
   "id": "6c31724e",
   "metadata": {},
   "source": [
    "### ***4. Of all the injury claims, some of them have gone unreported with the                                                              police. Create an alert flag (1,0) for all such claims.***"
   ]
  },
  {
   "cell_type": "code",
   "execution_count": 25,
   "id": "380a72ad",
   "metadata": {},
   "outputs": [],
   "source": [
    "cld_cs['alert_flag'] = np.where(cld_cs.police_report=='Yes' , '1' , '0')"
   ]
  },
  {
   "cell_type": "code",
   "execution_count": 26,
   "id": "7ad60e80",
   "metadata": {},
   "outputs": [],
   "source": [
    "cld_cs['alert_flag'] = np.where(cld_cs.police_report == 'Unknown' , '1,0', cld_cs.alert_flag )"
   ]
  },
  {
   "cell_type": "markdown",
   "id": "5aff03eb",
   "metadata": {},
   "source": [
    "### 5. One customer can claim for insurance more than once and in each claim,                                                      multiple categories of claims can be involved. However, customer ID                                                                               should remain unique. Retain the most recent observation and delete any duplicated records in                                  the data based on the customer ID column."
   ]
  },
  {
   "cell_type": "code",
   "execution_count": 27,
   "id": "2a1eef70",
   "metadata": {},
   "outputs": [],
   "source": [
    "cld_cs = cld_cs.sort_values(['claim_date','CUST_ID'] , ascending = False)\n",
    "cld_cs.drop_duplicates(subset = ['CUST_ID'] , keep = ('first') , inplace = True)"
   ]
  },
  {
   "cell_type": "markdown",
   "id": "45bbb9a0",
   "metadata": {},
   "source": [
    "### ***6. Check for missing values and impute the missing values with an                                                              appropriate value. (mean for continuous and mode for categorical)***"
   ]
  },
  {
   "cell_type": "code",
   "execution_count": 29,
   "id": "3a3beadc",
   "metadata": {},
   "outputs": [],
   "source": [
    "cld_cs.claim_amount.fillna(cld_cs.claim_amount.mean() , inplace = True)"
   ]
  },
  {
   "cell_type": "code",
   "execution_count": 30,
   "id": "bc3cdd43",
   "metadata": {},
   "outputs": [],
   "source": [
    "cld_cs.total_policy_claims.fillna(cld_cs.total_policy_claims.mean() , inplace = True)"
   ]
  },
  {
   "cell_type": "markdown",
   "id": "d8f601e9",
   "metadata": {},
   "source": [
    "### 7. Calculate the age of customers in years. Based on the age, categorize the                                                  customers according to the below criteria                                                                                                                           Children < 18                                                                                                                                                                               Youth 18-30                                                                                                                                                                                  Adult 30-60                                                                                                                                                                                  Senior > 60"
   ]
  },
  {
   "cell_type": "code",
   "execution_count": 31,
   "id": "e47fb5bd",
   "metadata": {},
   "outputs": [],
   "source": [
    "cld_cs['DateOfBirth'] = np.where(pd.DatetimeIndex (cld_cs['DateOfBirth']).year<2000 , cld_cs.DateOfBirth , cld_cs.DateOfBirth + pd.DateOffset(years= -100))"
   ]
  },
  {
   "cell_type": "code",
   "execution_count": 35,
   "id": "9666354a",
   "metadata": {
    "scrolled": true
   },
   "outputs": [
    {
     "data": {
      "text/plain": [
       "2023"
      ]
     },
     "execution_count": 35,
     "metadata": {},
     "output_type": "execute_result"
    }
   ],
   "source": [
    "today = pd.Timestamp.now()\n",
    "today.year"
   ]
  },
  {
   "cell_type": "code",
   "execution_count": 36,
   "id": "8355ed0c",
   "metadata": {},
   "outputs": [],
   "source": [
    "cld_cs['age'] = ( cld_cs.DateOfBirth.apply(lambda x : today.year - x.year))\n"
   ]
  },
  {
   "cell_type": "code",
   "execution_count": 37,
   "id": "67d5b873",
   "metadata": {},
   "outputs": [],
   "source": [
    "cld_cs['age_group'] = pd.cut(cld_cs['age'], bins=[0, 18, 30, 60, 100], labels=['Children', 'Youth', 'Adult', 'Senior'])"
   ]
  },
  {
   "cell_type": "markdown",
   "id": "a44357af",
   "metadata": {},
   "source": [
    "### 8. What is the average amount claimed by the customers from various segments?"
   ]
  },
  {
   "cell_type": "code",
   "execution_count": 38,
   "id": "0ca6f22b",
   "metadata": {},
   "outputs": [
    {
     "data": {
      "text/plain": [
       "Segment\n",
       "Gold        12846.400227\n",
       "Platinum    12371.654843\n",
       "Silver      12267.859374\n",
       "Name: claim_amount, dtype: float64"
      ]
     },
     "execution_count": 38,
     "metadata": {},
     "output_type": "execute_result"
    }
   ],
   "source": [
    "cld_cs.groupby('Segment')['claim_amount'].mean()"
   ]
  },
  {
   "cell_type": "markdown",
   "id": "ae98d872",
   "metadata": {},
   "source": [
    "### 9. What is the total claim amount based on incident cause for all the claims                           that have been done at least 20 days prior to 1st of October, 2018."
   ]
  },
  {
   "cell_type": "code",
   "execution_count": 39,
   "id": "326141d5",
   "metadata": {},
   "outputs": [],
   "source": [
    "a = cld_cs.loc[cld_cs.claim_date < '09/10/2018', : : ]\n"
   ]
  },
  {
   "cell_type": "code",
   "execution_count": 42,
   "id": "af3a1231",
   "metadata": {},
   "outputs": [
    {
     "data": {
      "text/html": [
       "<div>\n",
       "<style scoped>\n",
       "    .dataframe tbody tr th:only-of-type {\n",
       "        vertical-align: middle;\n",
       "    }\n",
       "\n",
       "    .dataframe tbody tr th {\n",
       "        vertical-align: top;\n",
       "    }\n",
       "\n",
       "    .dataframe thead th {\n",
       "        text-align: right;\n",
       "    }\n",
       "</style>\n",
       "<table border=\"1\" class=\"dataframe\">\n",
       "  <thead>\n",
       "    <tr style=\"text-align: right;\">\n",
       "      <th></th>\n",
       "      <th>incident_cause</th>\n",
       "      <th>claim_amount</th>\n",
       "    </tr>\n",
       "  </thead>\n",
       "  <tbody>\n",
       "    <tr>\n",
       "      <th>0</th>\n",
       "      <td>Crime</td>\n",
       "      <td>7.219386e+05</td>\n",
       "    </tr>\n",
       "    <tr>\n",
       "      <th>1</th>\n",
       "      <td>Driver error</td>\n",
       "      <td>3.315851e+06</td>\n",
       "    </tr>\n",
       "    <tr>\n",
       "      <th>2</th>\n",
       "      <td>Natural causes</td>\n",
       "      <td>1.312987e+06</td>\n",
       "    </tr>\n",
       "    <tr>\n",
       "      <th>3</th>\n",
       "      <td>Other causes</td>\n",
       "      <td>3.723152e+06</td>\n",
       "    </tr>\n",
       "    <tr>\n",
       "      <th>4</th>\n",
       "      <td>Other driver error</td>\n",
       "      <td>3.277536e+06</td>\n",
       "    </tr>\n",
       "  </tbody>\n",
       "</table>\n",
       "</div>"
      ],
      "text/plain": [
       "       incident_cause  claim_amount\n",
       "0               Crime  7.219386e+05\n",
       "1        Driver error  3.315851e+06\n",
       "2      Natural causes  1.312987e+06\n",
       "3        Other causes  3.723152e+06\n",
       "4  Other driver error  3.277536e+06"
      ]
     },
     "execution_count": 42,
     "metadata": {},
     "output_type": "execute_result"
    }
   ],
   "source": [
    "a.groupby('incident_cause')['claim_amount'].sum().reset_index()"
   ]
  },
  {
   "cell_type": "markdown",
   "id": "d289f2cb",
   "metadata": {},
   "source": [
    "### 10. How many adults from TX, DE and AK claimed insurance for driver                                                               related issues and causes? "
   ]
  },
  {
   "cell_type": "code",
   "execution_count": 43,
   "id": "4ef84181",
   "metadata": {},
   "outputs": [
    {
     "data": {
      "text/plain": [
       "State\n",
       "AK     6\n",
       "DE    10\n",
       "TX     6\n",
       "Name: CUST_ID, dtype: int64"
      ]
     },
     "execution_count": 43,
     "metadata": {},
     "output_type": "execute_result"
    }
   ],
   "source": [
    "cld_cs.loc[(cld_cs.incident_cause == 'Driver error') & ((cld_cs.State == 'DE')| (cld_cs.State == \"TX\") | (cld_cs.State == \"AK\")) ,  : :  ].groupby('State')['CUST_ID'].count()"
   ]
  },
  {
   "cell_type": "markdown",
   "id": "8f2804fd",
   "metadata": {},
   "source": [
    "### 11. Draw a pie chart between the aggregated value of claim amount based on gender and segment. Represent the claim amount as a percentage on the pie chart.\n"
   ]
  },
  {
   "cell_type": "code",
   "execution_count": 57,
   "id": "ea3f8ea9",
   "metadata": {},
   "outputs": [
    {
     "data": {
      "text/html": [
       "<div>\n",
       "<style scoped>\n",
       "    .dataframe tbody tr th:only-of-type {\n",
       "        vertical-align: middle;\n",
       "    }\n",
       "\n",
       "    .dataframe tbody tr th {\n",
       "        vertical-align: top;\n",
       "    }\n",
       "\n",
       "    .dataframe thead th {\n",
       "        text-align: right;\n",
       "    }\n",
       "</style>\n",
       "<table border=\"1\" class=\"dataframe\">\n",
       "  <thead>\n",
       "    <tr style=\"text-align: right;\">\n",
       "      <th></th>\n",
       "      <th>Segment</th>\n",
       "      <th>gender</th>\n",
       "      <th>claim_amount</th>\n",
       "    </tr>\n",
       "  </thead>\n",
       "  <tbody>\n",
       "    <tr>\n",
       "      <th>0</th>\n",
       "      <td>Gold</td>\n",
       "      <td>Female</td>\n",
       "      <td>12339.441748</td>\n",
       "    </tr>\n",
       "    <tr>\n",
       "      <th>1</th>\n",
       "      <td>Gold</td>\n",
       "      <td>Male</td>\n",
       "      <td>13279.849726</td>\n",
       "    </tr>\n",
       "    <tr>\n",
       "      <th>2</th>\n",
       "      <td>Platinum</td>\n",
       "      <td>Female</td>\n",
       "      <td>12278.352777</td>\n",
       "    </tr>\n",
       "    <tr>\n",
       "      <th>3</th>\n",
       "      <td>Platinum</td>\n",
       "      <td>Male</td>\n",
       "      <td>12478.841145</td>\n",
       "    </tr>\n",
       "    <tr>\n",
       "      <th>4</th>\n",
       "      <td>Silver</td>\n",
       "      <td>Female</td>\n",
       "      <td>11641.380032</td>\n",
       "    </tr>\n",
       "    <tr>\n",
       "      <th>5</th>\n",
       "      <td>Silver</td>\n",
       "      <td>Male</td>\n",
       "      <td>12825.871029</td>\n",
       "    </tr>\n",
       "  </tbody>\n",
       "</table>\n",
       "</div>"
      ],
      "text/plain": [
       "    Segment  gender  claim_amount\n",
       "0      Gold  Female  12339.441748\n",
       "1      Gold    Male  13279.849726\n",
       "2  Platinum  Female  12278.352777\n",
       "3  Platinum    Male  12478.841145\n",
       "4    Silver  Female  11641.380032\n",
       "5    Silver    Male  12825.871029"
      ]
     },
     "execution_count": 57,
     "metadata": {},
     "output_type": "execute_result"
    }
   ],
   "source": [
    "pc = pd.DataFrame(cld_cs.groupby(['Segment','gender'])['claim_amount'].mean()).reset_index()\n",
    "pc\n"
   ]
  },
  {
   "cell_type": "code",
   "execution_count": 52,
   "id": "73e4d465",
   "metadata": {},
   "outputs": [
    {
     "data": {
      "text/html": [
       "<div>\n",
       "<style scoped>\n",
       "    .dataframe tbody tr th:only-of-type {\n",
       "        vertical-align: middle;\n",
       "    }\n",
       "\n",
       "    .dataframe tbody tr th {\n",
       "        vertical-align: top;\n",
       "    }\n",
       "\n",
       "    .dataframe thead th {\n",
       "        text-align: right;\n",
       "    }\n",
       "</style>\n",
       "<table border=\"1\" class=\"dataframe\">\n",
       "  <thead>\n",
       "    <tr style=\"text-align: right;\">\n",
       "      <th>Segment</th>\n",
       "      <th>Gold</th>\n",
       "      <th>Platinum</th>\n",
       "      <th>Silver</th>\n",
       "    </tr>\n",
       "    <tr>\n",
       "      <th>gender</th>\n",
       "      <th></th>\n",
       "      <th></th>\n",
       "      <th></th>\n",
       "    </tr>\n",
       "  </thead>\n",
       "  <tbody>\n",
       "    <tr>\n",
       "      <th>Female</th>\n",
       "      <td>12339.441748</td>\n",
       "      <td>12278.352777</td>\n",
       "      <td>11641.380032</td>\n",
       "    </tr>\n",
       "    <tr>\n",
       "      <th>Male</th>\n",
       "      <td>13279.849726</td>\n",
       "      <td>12478.841145</td>\n",
       "      <td>12825.871029</td>\n",
       "    </tr>\n",
       "  </tbody>\n",
       "</table>\n",
       "</div>"
      ],
      "text/plain": [
       "Segment          Gold      Platinum        Silver\n",
       "gender                                           \n",
       "Female   12339.441748  12278.352777  11641.380032\n",
       "Male     13279.849726  12478.841145  12825.871029"
      ]
     },
     "execution_count": 52,
     "metadata": {},
     "output_type": "execute_result"
    }
   ],
   "source": [
    "pc1 = pc.pivot_table(index = 'gender' , columns = 'Segment' , values = 'claim_amount')\n",
    "pc1\n"
   ]
  },
  {
   "cell_type": "code",
   "execution_count": 60,
   "id": "651af18d",
   "metadata": {},
   "outputs": [
    {
     "data": {
      "image/png": "[encoded data removed]",
      "text/plain": [
       "<Figure size 640x480 with 3 Axes>"
      ]
     },
     "metadata": {},
     "output_type": "display_data"
    },
    {
     "data": {
      "text/plain": [
       "<Figure size 800x800 with 0 Axes>"
      ]
     },
     "metadata": {},
     "output_type": "display_data"
    }
   ],
   "source": [
    "pc1.plot(kind = 'pie' , subplots =True , legend = False)\n",
    "plt.figure(figsize=(8,8))\n",
    "plt.show()"
   ]
  },
  {
   "cell_type": "markdown",
   "id": "51b2d965",
   "metadata": {},
   "source": [
    "### 12. Among males and females, which gender had claimed the most for any                                                                type of driver related issues? E.g. This metric can be compared using a                                                                           bar chart"
   ]
  },
  {
   "cell_type": "code",
   "execution_count": 48,
   "id": "52dab768",
   "metadata": {},
   "outputs": [
    {
     "data": {
      "text/html": [
       "<div>\n",
       "<style scoped>\n",
       "    .dataframe tbody tr th:only-of-type {\n",
       "        vertical-align: middle;\n",
       "    }\n",
       "\n",
       "    .dataframe tbody tr th {\n",
       "        vertical-align: top;\n",
       "    }\n",
       "\n",
       "    .dataframe thead th {\n",
       "        text-align: right;\n",
       "    }\n",
       "</style>\n",
       "<table border=\"1\" class=\"dataframe\">\n",
       "  <thead>\n",
       "    <tr style=\"text-align: right;\">\n",
       "      <th></th>\n",
       "      <th>gender</th>\n",
       "      <th>claim_amount</th>\n",
       "    </tr>\n",
       "  </thead>\n",
       "  <tbody>\n",
       "    <tr>\n",
       "      <th>0</th>\n",
       "      <td>Female</td>\n",
       "      <td>3.136718e+06</td>\n",
       "    </tr>\n",
       "    <tr>\n",
       "      <th>1</th>\n",
       "      <td>Male</td>\n",
       "      <td>3.975412e+06</td>\n",
       "    </tr>\n",
       "  </tbody>\n",
       "</table>\n",
       "</div>"
      ],
      "text/plain": [
       "   gender  claim_amount\n",
       "0  Female  3.136718e+06\n",
       "1    Male  3.975412e+06"
      ]
     },
     "execution_count": 48,
     "metadata": {},
     "output_type": "execute_result"
    }
   ],
   "source": [
    "bc = pd.DataFrame(cld_cs.loc[cld_cs.incident_cause.str.lower().str.contains('driver') , : : ].groupby('gender')['claim_amount'].sum()).reset_index()\n",
    "bc"
   ]
  },
  {
   "cell_type": "code",
   "execution_count": 49,
   "id": "2f377aca",
   "metadata": {},
   "outputs": [
    {
     "data": {
      "image/png": "[encoded data removed]",
      "text/plain": [
       "<Figure size 640x480 with 1 Axes>"
      ]
     },
     "metadata": {},
     "output_type": "display_data"
    }
   ],
   "source": [
    "plt.bar(bc.gender,bc.claim_amount)\n",
    "plt.title('Claim based on gender')\n",
    "plt.show()\n"
   ]
  },
  {
   "cell_type": "markdown",
   "id": "e1421ff1",
   "metadata": {},
   "source": [
    "### 13. Which age group had the maximum fraudulent policy claims? Visualize                                                                it on a bar chart.\n"
   ]
  },
  {
   "cell_type": "code",
   "execution_count": 61,
   "id": "bdef176a",
   "metadata": {},
   "outputs": [
    {
     "data": {
      "text/html": [
       "<div>\n",
       "<style scoped>\n",
       "    .dataframe tbody tr th:only-of-type {\n",
       "        vertical-align: middle;\n",
       "    }\n",
       "\n",
       "    .dataframe tbody tr th {\n",
       "        vertical-align: top;\n",
       "    }\n",
       "\n",
       "    .dataframe thead th {\n",
       "        text-align: right;\n",
       "    }\n",
       "</style>\n",
       "<table border=\"1\" class=\"dataframe\">\n",
       "  <thead>\n",
       "    <tr style=\"text-align: right;\">\n",
       "      <th></th>\n",
       "      <th>age_group</th>\n",
       "      <th>total_policy_claims</th>\n",
       "    </tr>\n",
       "  </thead>\n",
       "  <tbody>\n",
       "    <tr>\n",
       "      <th>0</th>\n",
       "      <td>Children</td>\n",
       "      <td>0</td>\n",
       "    </tr>\n",
       "    <tr>\n",
       "      <th>1</th>\n",
       "      <td>Youth</td>\n",
       "      <td>39</td>\n",
       "    </tr>\n",
       "    <tr>\n",
       "      <th>2</th>\n",
       "      <td>Adult</td>\n",
       "      <td>185</td>\n",
       "    </tr>\n",
       "    <tr>\n",
       "      <th>3</th>\n",
       "      <td>Senior</td>\n",
       "      <td>21</td>\n",
       "    </tr>\n",
       "  </tbody>\n",
       "</table>\n",
       "</div>"
      ],
      "text/plain": [
       "  age_group  total_policy_claims\n",
       "0  Children                    0\n",
       "1     Youth                   39\n",
       "2     Adult                  185\n",
       "3    Senior                   21"
      ]
     },
     "execution_count": 61,
     "metadata": {},
     "output_type": "execute_result"
    }
   ],
   "source": [
    "fc = pd.DataFrame(cld_cs.loc[cld_cs.fraudulent=='Yes' , : : ].groupby('age_group')['total_policy_claims'].count()).reset_index()\n",
    "fc"
   ]
  },
  {
   "cell_type": "code",
   "execution_count": 62,
   "id": "c4e1a607",
   "metadata": {},
   "outputs": [
    {
     "data": {
      "image/png": "[encoded data removed]",
      "text/plain": [
       "<Figure size 640x480 with 1 Axes>"
      ]
     },
     "metadata": {},
     "output_type": "display_data"
    }
   ],
   "source": [
    "plt.bar(fc.age_group,fc.total_policy_claims)\n",
    "plt.title('age group wise maximum fraudulent policy claims')\n",
    "plt.show()"
   ]
  },
  {
   "cell_type": "markdown",
   "id": "6d346550",
   "metadata": {},
   "source": [
    "### 14. Visualize the monthly trend of the total amount that has been claimed                                                                  by the customers. Ensure that on the “month” axis, the month is in a                                                        chronological order not alphabetical order."
   ]
  },
  {
   "cell_type": "code",
   "execution_count": 69,
   "id": "94e501bb",
   "metadata": {},
   "outputs": [],
   "source": [
    "cld_cs['Month'] = cld_cs.claim_date.apply(lambda x : pd.Timestamp.strftime(x , format = '%b'))"
   ]
  },
  {
   "cell_type": "code",
   "execution_count": 70,
   "id": "36856b96",
   "metadata": {},
   "outputs": [
    {
     "data": {
      "text/html": [
       "<div>\n",
       "<style scoped>\n",
       "    .dataframe tbody tr th:only-of-type {\n",
       "        vertical-align: middle;\n",
       "    }\n",
       "\n",
       "    .dataframe tbody tr th {\n",
       "        vertical-align: top;\n",
       "    }\n",
       "\n",
       "    .dataframe thead th {\n",
       "        text-align: right;\n",
       "    }\n",
       "</style>\n",
       "<table border=\"1\" class=\"dataframe\">\n",
       "  <thead>\n",
       "    <tr style=\"text-align: right;\">\n",
       "      <th></th>\n",
       "      <th>Month</th>\n",
       "      <th>claim_amount</th>\n",
       "    </tr>\n",
       "  </thead>\n",
       "  <tbody>\n",
       "    <tr>\n",
       "      <th>9</th>\n",
       "      <td>Nov</td>\n",
       "      <td>6.011875e+05</td>\n",
       "    </tr>\n",
       "    <tr>\n",
       "      <th>2</th>\n",
       "      <td>Dec</td>\n",
       "      <td>6.942527e+05</td>\n",
       "    </tr>\n",
       "    <tr>\n",
       "      <th>1</th>\n",
       "      <td>Aug</td>\n",
       "      <td>9.112972e+05</td>\n",
       "    </tr>\n",
       "    <tr>\n",
       "      <th>11</th>\n",
       "      <td>Sep</td>\n",
       "      <td>9.832003e+05</td>\n",
       "    </tr>\n",
       "    <tr>\n",
       "      <th>8</th>\n",
       "      <td>May</td>\n",
       "      <td>1.114461e+06</td>\n",
       "    </tr>\n",
       "    <tr>\n",
       "      <th>3</th>\n",
       "      <td>Feb</td>\n",
       "      <td>1.164542e+06</td>\n",
       "    </tr>\n",
       "    <tr>\n",
       "      <th>6</th>\n",
       "      <td>Jun</td>\n",
       "      <td>1.279030e+06</td>\n",
       "    </tr>\n",
       "    <tr>\n",
       "      <th>0</th>\n",
       "      <td>Apr</td>\n",
       "      <td>1.292514e+06</td>\n",
       "    </tr>\n",
       "    <tr>\n",
       "      <th>7</th>\n",
       "      <td>Mar</td>\n",
       "      <td>1.320250e+06</td>\n",
       "    </tr>\n",
       "    <tr>\n",
       "      <th>4</th>\n",
       "      <td>Jan</td>\n",
       "      <td>1.327171e+06</td>\n",
       "    </tr>\n",
       "    <tr>\n",
       "      <th>5</th>\n",
       "      <td>Jul</td>\n",
       "      <td>1.379316e+06</td>\n",
       "    </tr>\n",
       "    <tr>\n",
       "      <th>10</th>\n",
       "      <td>Oct</td>\n",
       "      <td>1.409639e+06</td>\n",
       "    </tr>\n",
       "  </tbody>\n",
       "</table>\n",
       "</div>"
      ],
      "text/plain": [
       "   Month  claim_amount\n",
       "9    Nov  6.011875e+05\n",
       "2    Dec  6.942527e+05\n",
       "1    Aug  9.112972e+05\n",
       "11   Sep  9.832003e+05\n",
       "8    May  1.114461e+06\n",
       "3    Feb  1.164542e+06\n",
       "6    Jun  1.279030e+06\n",
       "0    Apr  1.292514e+06\n",
       "7    Mar  1.320250e+06\n",
       "4    Jan  1.327171e+06\n",
       "5    Jul  1.379316e+06\n",
       "10   Oct  1.409639e+06"
      ]
     },
     "execution_count": 70,
     "metadata": {},
     "output_type": "execute_result"
    }
   ],
   "source": [
    "lc = pd.DataFrame(cld_cs.groupby('Month')['claim_amount'].sum().reset_index().sort_values(by='claim_amount' ))\n",
    "lc"
   ]
  },
  {
   "cell_type": "code",
   "execution_count": 71,
   "id": "d0a2e33b",
   "metadata": {},
   "outputs": [
    {
     "data": {
      "image/png": "[encoded data removed]",
      "text/plain": [
       "<Figure size 640x480 with 1 Axes>"
      ]
     },
     "metadata": {},
     "output_type": "display_data"
    }
   ],
   "source": [
    "plt.plot(lc.Month , lc.claim_amount)\n",
    "plt.xticks(rotation=60)\n",
    "plt.show()"
   ]
  },
  {
   "cell_type": "markdown",
   "id": "4d902c78",
   "metadata": {},
   "source": [
    "### 15. What is the average claim amount for gender and age categories and                                                                suitably represent the above using a facetted bar chart, one facet that                                                                      represents fraudulent claims and the other for non-fraudulent claims."
   ]
  },
  {
   "cell_type": "code",
   "execution_count": 72,
   "id": "b8277e43",
   "metadata": {},
   "outputs": [
    {
     "data": {
      "text/html": [
       "<div>\n",
       "<style scoped>\n",
       "    .dataframe tbody tr th:only-of-type {\n",
       "        vertical-align: middle;\n",
       "    }\n",
       "\n",
       "    .dataframe tbody tr th {\n",
       "        vertical-align: top;\n",
       "    }\n",
       "\n",
       "    .dataframe thead th {\n",
       "        text-align: right;\n",
       "    }\n",
       "</style>\n",
       "<table border=\"1\" class=\"dataframe\">\n",
       "  <thead>\n",
       "    <tr style=\"text-align: right;\">\n",
       "      <th></th>\n",
       "      <th>gender</th>\n",
       "      <th>age_group</th>\n",
       "      <th>claim_amount</th>\n",
       "    </tr>\n",
       "  </thead>\n",
       "  <tbody>\n",
       "    <tr>\n",
       "      <th>0</th>\n",
       "      <td>Female</td>\n",
       "      <td>Children</td>\n",
       "      <td>NaN</td>\n",
       "    </tr>\n",
       "    <tr>\n",
       "      <th>1</th>\n",
       "      <td>Female</td>\n",
       "      <td>Youth</td>\n",
       "      <td>9220.495534</td>\n",
       "    </tr>\n",
       "    <tr>\n",
       "      <th>2</th>\n",
       "      <td>Female</td>\n",
       "      <td>Adult</td>\n",
       "      <td>12630.113839</td>\n",
       "    </tr>\n",
       "    <tr>\n",
       "      <th>3</th>\n",
       "      <td>Female</td>\n",
       "      <td>Senior</td>\n",
       "      <td>3779.076923</td>\n",
       "    </tr>\n",
       "    <tr>\n",
       "      <th>4</th>\n",
       "      <td>Male</td>\n",
       "      <td>Children</td>\n",
       "      <td>NaN</td>\n",
       "    </tr>\n",
       "    <tr>\n",
       "      <th>5</th>\n",
       "      <td>Male</td>\n",
       "      <td>Youth</td>\n",
       "      <td>7799.623697</td>\n",
       "    </tr>\n",
       "    <tr>\n",
       "      <th>6</th>\n",
       "      <td>Male</td>\n",
       "      <td>Adult</td>\n",
       "      <td>16049.184674</td>\n",
       "    </tr>\n",
       "    <tr>\n",
       "      <th>7</th>\n",
       "      <td>Male</td>\n",
       "      <td>Senior</td>\n",
       "      <td>16879.125000</td>\n",
       "    </tr>\n",
       "  </tbody>\n",
       "</table>\n",
       "</div>"
      ],
      "text/plain": [
       "   gender age_group  claim_amount\n",
       "0  Female  Children           NaN\n",
       "1  Female     Youth   9220.495534\n",
       "2  Female     Adult  12630.113839\n",
       "3  Female    Senior   3779.076923\n",
       "4    Male  Children           NaN\n",
       "5    Male     Youth   7799.623697\n",
       "6    Male     Adult  16049.184674\n",
       "7    Male    Senior  16879.125000"
      ]
     },
     "execution_count": 72,
     "metadata": {},
     "output_type": "execute_result"
    }
   ],
   "source": [
    "fraud_yes =pd.DataFrame(cld_cs.loc[cld_cs.fraudulent=='Yes' ,: : ].groupby(['gender','age_group'])['claim_amount'].mean()).reset_index()\n",
    "fraud_yes"
   ]
  },
  {
   "cell_type": "code",
   "execution_count": 74,
   "id": "3a091926",
   "metadata": {},
   "outputs": [
    {
     "data": {
      "image/png": "[encoded data removed]",
      "text/plain": [
       "<Figure size 640x480 with 1 Axes>"
      ]
     },
     "metadata": {},
     "output_type": "display_data"
    }
   ],
   "source": [
    "sns.barplot(fraud_yes , x = fraud_yes.age_group,y = fraud_yes.claim_amount , hue = 'gender')\n",
    "plt.legend(loc = 'upper right')\n",
    "plt.show()"
   ]
  },
  {
   "cell_type": "code",
   "execution_count": 75,
   "id": "06df2c05",
   "metadata": {},
   "outputs": [
    {
     "data": {
      "text/html": [
       "<div>\n",
       "<style scoped>\n",
       "    .dataframe tbody tr th:only-of-type {\n",
       "        vertical-align: middle;\n",
       "    }\n",
       "\n",
       "    .dataframe tbody tr th {\n",
       "        vertical-align: top;\n",
       "    }\n",
       "\n",
       "    .dataframe thead th {\n",
       "        text-align: right;\n",
       "    }\n",
       "</style>\n",
       "<table border=\"1\" class=\"dataframe\">\n",
       "  <thead>\n",
       "    <tr style=\"text-align: right;\">\n",
       "      <th></th>\n",
       "      <th>gender</th>\n",
       "      <th>age_group</th>\n",
       "      <th>claim_amount</th>\n",
       "    </tr>\n",
       "  </thead>\n",
       "  <tbody>\n",
       "    <tr>\n",
       "      <th>0</th>\n",
       "      <td>Female</td>\n",
       "      <td>Children</td>\n",
       "      <td>NaN</td>\n",
       "    </tr>\n",
       "    <tr>\n",
       "      <th>1</th>\n",
       "      <td>Female</td>\n",
       "      <td>Youth</td>\n",
       "      <td>13174.551022</td>\n",
       "    </tr>\n",
       "    <tr>\n",
       "      <th>2</th>\n",
       "      <td>Female</td>\n",
       "      <td>Adult</td>\n",
       "      <td>11982.841119</td>\n",
       "    </tr>\n",
       "    <tr>\n",
       "      <th>3</th>\n",
       "      <td>Female</td>\n",
       "      <td>Senior</td>\n",
       "      <td>14965.431639</td>\n",
       "    </tr>\n",
       "    <tr>\n",
       "      <th>4</th>\n",
       "      <td>Male</td>\n",
       "      <td>Children</td>\n",
       "      <td>NaN</td>\n",
       "    </tr>\n",
       "    <tr>\n",
       "      <th>5</th>\n",
       "      <td>Male</td>\n",
       "      <td>Youth</td>\n",
       "      <td>12089.549538</td>\n",
       "    </tr>\n",
       "    <tr>\n",
       "      <th>6</th>\n",
       "      <td>Male</td>\n",
       "      <td>Adult</td>\n",
       "      <td>12375.035967</td>\n",
       "    </tr>\n",
       "    <tr>\n",
       "      <th>7</th>\n",
       "      <td>Male</td>\n",
       "      <td>Senior</td>\n",
       "      <td>12607.781770</td>\n",
       "    </tr>\n",
       "  </tbody>\n",
       "</table>\n",
       "</div>"
      ],
      "text/plain": [
       "   gender age_group  claim_amount\n",
       "0  Female  Children           NaN\n",
       "1  Female     Youth  13174.551022\n",
       "2  Female     Adult  11982.841119\n",
       "3  Female    Senior  14965.431639\n",
       "4    Male  Children           NaN\n",
       "5    Male     Youth  12089.549538\n",
       "6    Male     Adult  12375.035967\n",
       "7    Male    Senior  12607.781770"
      ]
     },
     "execution_count": 75,
     "metadata": {},
     "output_type": "execute_result"
    }
   ],
   "source": [
    "fraud_no = pd.DataFrame(cld_cs.loc[cld_cs.fraudulent=='No', : : ].groupby(['gender','age_group'])['claim_amount'].mean()).reset_index()\n",
    "fraud_no"
   ]
  },
  {
   "cell_type": "code",
   "execution_count": 76,
   "id": "b5c4f29d",
   "metadata": {},
   "outputs": [
    {
     "data": {
      "text/plain": [
       "<Axes: xlabel='age_group', ylabel='claim_amount'>"
      ]
     },
     "execution_count": 76,
     "metadata": {},
     "output_type": "execute_result"
    },
    {
     "data": {
      "image/png": "[encoded data removed]",
      "text/plain": [
       "<Figure size 640x480 with 1 Axes>"
      ]
     },
     "metadata": {},
     "output_type": "display_data"
    }
   ],
   "source": [
    "sns.barplot(fraud_no , x = fraud_no.age_group,y = fraud_no.claim_amount , hue = 'gender')"
   ]
  },
  {
   "cell_type": "markdown",
   "id": "f78216c5",
   "metadata": {},
   "source": [
    "### 16. Is there any similarity in the amount claimed by males and females?"
   ]
  },
  {
   "cell_type": "markdown",
   "id": "05251964",
   "metadata": {},
   "source": [
    "## 1. Null Hypothesis (H0) :\n",
    "\n",
    "    u1 != u2\n",
    "       or\n",
    "      There is no similarity in the mean of amount claimed by males and females."
   ]
  },
  {
   "cell_type": "markdown",
   "id": "4b28654a",
   "metadata": {},
   "source": [
    "## 2. Alternate Hypothesis (Ha):\n",
    "         u1 = u2\n",
    "        There is similarity in the mean of amount claimed by males and females."
   ]
  },
  {
   "cell_type": "markdown",
   "id": "fc7ae5e4",
   "metadata": {},
   "source": [
    "### 3. CI & p VALUES :\n",
    "         CI = 95%\n",
    "         p values = 0.05\n"
   ]
  },
  {
   "cell_type": "markdown",
   "id": "38750a99",
   "metadata": {},
   "source": [
    "## Perform the test : \n",
    " #### F test\n"
   ]
  },
  {
   "cell_type": "code",
   "execution_count": 77,
   "id": "5331838f",
   "metadata": {},
   "outputs": [
    {
     "data": {
      "text/plain": [
       "286     42124.500000\n",
       "1077     2290.000000\n",
       "1055     2420.000000\n",
       "941      1830.000000\n",
       "751     12501.726555\n",
       "            ...     \n",
       "177      2080.000000\n",
       "312     37290.000000\n",
       "120      2967.000000\n",
       "739      1840.000000\n",
       "334     20310.000000\n",
       "Name: claim_amount, Length: 551, dtype: float64"
      ]
     },
     "execution_count": 77,
     "metadata": {},
     "output_type": "execute_result"
    }
   ],
   "source": [
    "male = cld_cs.loc[cld_cs.gender == 'Male' , 'claim_amount']\n",
    "male"
   ]
  },
  {
   "cell_type": "code",
   "execution_count": 78,
   "id": "4fd98ffe",
   "metadata": {},
   "outputs": [
    {
     "data": {
      "text/plain": [
       "697      1860.000000\n",
       "322     12501.726555\n",
       "238     26310.000000\n",
       "354      1940.000000\n",
       "226     17020.000000\n",
       "            ...     \n",
       "1064    20630.000000\n",
       "195     17290.000000\n",
       "181     30930.000000\n",
       "905     27670.000000\n",
       "383      2900.000000\n",
       "Name: claim_amount, Length: 527, dtype: float64"
      ]
     },
     "execution_count": 78,
     "metadata": {},
     "output_type": "execute_result"
    }
   ],
   "source": [
    "female = cld_cs.loc[cld_cs.gender == 'Female' , 'claim_amount' ]\n",
    "female"
   ]
  },
  {
   "cell_type": "code",
   "execution_count": 79,
   "id": "02313b54",
   "metadata": {},
   "outputs": [
    {
     "data": {
      "text/plain": [
       "F_onewayResult(statistic=0.9264242385640077, pvalue=0.3360100613538194)"
      ]
     },
     "execution_count": 79,
     "metadata": {},
     "output_type": "execute_result"
    }
   ],
   "source": [
    "stats.f_oneway(male,female)"
   ]
  },
  {
   "cell_type": "markdown",
   "id": "1334008c",
   "metadata": {},
   "source": [
    "### 5. Rejection Rule:\n",
    "        The new p value is greater than original p value(0.05).\n",
    "        Hence we do not reject the null hypothesis."
   ]
  },
  {
   "cell_type": "markdown",
   "id": "13509c1f",
   "metadata": {},
   "source": [
    "### 6.Bussiness conclusion:\n",
    "       Pvalue is > 0.05. Hence we do not reject the  Null Hypothesis H0 and there is no relationship for the amount claimed by males and females."
   ]
  },
  {
   "cell_type": "markdown",
   "id": "3c895648",
   "metadata": {},
   "source": [
    "### 17. Is there any relationship between age category and segment?"
   ]
  },
  {
   "cell_type": "markdown",
   "id": "8782fd12",
   "metadata": {},
   "source": [
    "###  1.Null hypothesis (H0):\n",
    "        There is no relationship between age category and category."
   ]
  },
  {
   "cell_type": "markdown",
   "id": "0d2d5985",
   "metadata": {},
   "source": [
    "### 2.Alternate hypothesis  (HA) :\n",
    "        There is relationship between age category and segment."
   ]
  },
  {
   "cell_type": "markdown",
   "id": "eb931351",
   "metadata": {},
   "source": [
    "### 3.Confidence level & p value:\n",
    "        CI = 95% \n",
    "        p value = 0.05"
   ]
  },
  {
   "cell_type": "markdown",
   "id": "66054997",
   "metadata": {},
   "source": [
    "### Perform the test :\n",
    "        Chi squared test"
   ]
  },
  {
   "cell_type": "markdown",
   "id": "6473b96c",
   "metadata": {},
   "source": [
    "### Creating cross tab :"
   ]
  },
  {
   "cell_type": "code",
   "execution_count": 82,
   "id": "b7369ea3",
   "metadata": {},
   "outputs": [
    {
     "data": {
      "text/html": [
       "<div>\n",
       "<style scoped>\n",
       "    .dataframe tbody tr th:only-of-type {\n",
       "        vertical-align: middle;\n",
       "    }\n",
       "\n",
       "    .dataframe tbody tr th {\n",
       "        vertical-align: top;\n",
       "    }\n",
       "\n",
       "    .dataframe thead th {\n",
       "        text-align: right;\n",
       "    }\n",
       "</style>\n",
       "<table border=\"1\" class=\"dataframe\">\n",
       "  <thead>\n",
       "    <tr style=\"text-align: right;\">\n",
       "      <th>age_group</th>\n",
       "      <th>Youth</th>\n",
       "      <th>Adult</th>\n",
       "      <th>Senior</th>\n",
       "    </tr>\n",
       "    <tr>\n",
       "      <th>Segment</th>\n",
       "      <th></th>\n",
       "      <th></th>\n",
       "      <th></th>\n",
       "    </tr>\n",
       "  </thead>\n",
       "  <tbody>\n",
       "    <tr>\n",
       "      <th>Gold</th>\n",
       "      <td>71</td>\n",
       "      <td>272</td>\n",
       "      <td>28</td>\n",
       "    </tr>\n",
       "    <tr>\n",
       "      <th>Platinum</th>\n",
       "      <td>69</td>\n",
       "      <td>266</td>\n",
       "      <td>26</td>\n",
       "    </tr>\n",
       "    <tr>\n",
       "      <th>Silver</th>\n",
       "      <td>68</td>\n",
       "      <td>257</td>\n",
       "      <td>21</td>\n",
       "    </tr>\n",
       "  </tbody>\n",
       "</table>\n",
       "</div>"
      ],
      "text/plain": [
       "age_group  Youth  Adult  Senior\n",
       "Segment                        \n",
       "Gold          71    272      28\n",
       "Platinum      69    266      26\n",
       "Silver        68    257      21"
      ]
     },
     "execution_count": 82,
     "metadata": {},
     "output_type": "execute_result"
    }
   ],
   "source": [
    "obs_frq = pd.crosstab(index = cld_cs.Segment , columns = cld_cs.age_group)\n",
    "obs_frq"
   ]
  },
  {
   "cell_type": "code",
   "execution_count": 83,
   "id": "943aa7cf",
   "metadata": {},
   "outputs": [
    {
     "data": {
      "text/plain": [
       "Chi2ContingencyResult(statistic=0.6654696397990999, pvalue=0.9555179463691874, dof=4, expected_freq=array([[ 71.58441558, 273.6038961 ,  25.81168831],\n",
       "       [ 69.65491651, 266.22912801,  25.11595547],\n",
       "       [ 66.7606679 , 255.16697588,  24.07235622]]))"
      ]
     },
     "execution_count": 83,
     "metadata": {},
     "output_type": "execute_result"
    }
   ],
   "source": [
    "stats.chi2_contingency(obs_frq)"
   ]
  },
  {
   "cell_type": "markdown",
   "id": "725b7dbe",
   "metadata": {},
   "source": [
    "### 5. Rejection Rule:\n",
    "        The new p value is greater than original p value(0.05).\n",
    "        Hence we do not reject the null hypothesis."
   ]
  },
  {
   "cell_type": "markdown",
   "id": "dab2369c",
   "metadata": {},
   "source": [
    "### 6. Bussiness Conclusion : \n",
    "Pvalue is > 0.05. Hence we do not reject Null Hypothesis (H0) and there is no relationship between age category and segment."
   ]
  },
  {
   "cell_type": "markdown",
   "id": "555a9cc1",
   "metadata": {},
   "source": [
    "### 18. The current year has shown a significant rise in claim amounts as                                                          compared to 2016-17 fiscal average which was $10,000."
   ]
  },
  {
   "cell_type": "markdown",
   "id": "2adb1e8d",
   "metadata": {},
   "source": [
    "### 1. Null Hypothesis (H0) : \n",
    "        There is no significant rise in claim amounts this year as compared to previous year.\n",
    "        \n",
    "        \n",
    "### 2. Alternate Hypothesis(HA) :\n",
    "        There is significant rise in claim amounts this year as compared to previous year.\n",
    "        \n",
    "        \n",
    "### 3. CI value & p value : \n",
    "          CI = 95%\n",
    "          p value = 0.05\n",
    "          \n",
    "          \n",
    "### 4. Perform the test : \n",
    "        T test"
   ]
  },
  {
   "cell_type": "code",
   "execution_count": 87,
   "id": "74eaca93",
   "metadata": {},
   "outputs": [],
   "source": [
    "cld_cs['year'] = cld_cs.claim_date.apply(lambda x : pd.Timestamp.strftime(x , format = '%Y'))"
   ]
  },
  {
   "cell_type": "code",
   "execution_count": 88,
   "id": "b6b3028f",
   "metadata": {},
   "outputs": [
    {
     "data": {
      "text/plain": [
       "286     42124.500000\n",
       "697      1860.000000\n",
       "322     12501.726555\n",
       "1077     2290.000000\n",
       "1055     2420.000000\n",
       "            ...     \n",
       "723      2740.000000\n",
       "561     44666.000000\n",
       "583     44838.500000\n",
       "191     31270.000000\n",
       "729      2120.000000\n",
       "Name: claim_amount, Length: 485, dtype: float64"
      ]
     },
     "execution_count": 88,
     "metadata": {},
     "output_type": "execute_result"
    }
   ],
   "source": [
    "curr_yr_claim = cld_cs.loc[cld_cs.year == '2018' , 'claim_amount']\n",
    "curr_yr_claim"
   ]
  },
  {
   "cell_type": "code",
   "execution_count": 89,
   "id": "3b7e1683",
   "metadata": {},
   "outputs": [
    {
     "data": {
      "text/plain": [
       "TtestResult(statistic=4.477343563243787, pvalue=9.43584422198333e-06, df=484)"
      ]
     },
     "execution_count": 89,
     "metadata": {},
     "output_type": "execute_result"
    }
   ],
   "source": [
    "stats.ttest_1samp(curr_yr_claim,10000)"
   ]
  },
  {
   "cell_type": "markdown",
   "id": "5560b587",
   "metadata": {},
   "source": [
    "### 5. Rejection Rule:\n",
    "    Since new p value is less than original p value.\n",
    "    We reject the NULL HYPOTHESIS.\n",
    "    \n",
    "    \n",
    "### 6. Bussiness Conclusion : \n",
    "\n",
    "We reject the null hypothesis hence claim amounts in currrent year might have increased as compared to previous  years."
   ]
  },
  {
   "cell_type": "markdown",
   "id": "d61a79a8",
   "metadata": {},
   "source": [
    "## 19. Is there any difference between age groups and insurance claims?"
   ]
  },
  {
   "cell_type": "markdown",
   "id": "c341331b",
   "metadata": {},
   "source": [
    "### 1. Null Hypothesis (H0) :\n",
    "        u1 = u2 =u3 \n",
    "           or\n",
    "        mean of insurance claims of different age groups is same.\n",
    "      \n",
    "### 2. Alternate Hypothesis (HA) :\n",
    "        u1!=u2!=u3\n",
    "           or\n",
    "         mean of insurance claims of different age groups is not same.\n",
    "         \n",
    "         \n",
    "### 3. CI level & p value:\n",
    "        CI= 95%\n",
    "        p value = 0.05\n",
    "        \n",
    "### 4. Perform the test : \n",
    "        F test"
   ]
  },
  {
   "cell_type": "code",
   "execution_count": 90,
   "id": "2320dfd9",
   "metadata": {},
   "outputs": [],
   "source": [
    "claim = 'claim_amount'\n"
   ]
  },
  {
   "cell_type": "code",
   "execution_count": 91,
   "id": "5606b26d",
   "metadata": {},
   "outputs": [],
   "source": [
    "s1 = cld_cs.loc[cld_cs.age_group == 'Children',claim]\n",
    "s2 = cld_cs.loc[cld_cs.age_group == 'Youth',claim]\n",
    "s3 = cld_cs.loc[cld_cs.age_group == 'Adult',claim]\n",
    "s4 = cld_cs.loc[cld_cs.age_group == 'Senior',claim]"
   ]
  },
  {
   "cell_type": "code",
   "execution_count": 92,
   "id": "8590f1ca",
   "metadata": {},
   "outputs": [
    {
     "data": {
      "text/plain": [
       "F_onewayResult(statistic=0.33643899804286465, pvalue=0.7143846417070969)"
      ]
     },
     "execution_count": 92,
     "metadata": {},
     "output_type": "execute_result"
    }
   ],
   "source": [
    "stats.f_oneway(s2,s3,s4)"
   ]
  },
  {
   "cell_type": "markdown",
   "id": "8f689017",
   "metadata": {},
   "source": [
    "### 5. Rejection Rule :\n",
    "    Since p value is greater than 0.05 ,  we do not reject the null hypothesis.\n",
    "    \n",
    "    \n",
    "### 6. Bussiness Conclusion : \n",
    "        Pvalue is > 0.05. Hence we do not reject the Null Hypothesis H0 and there is no difference between age groups and insurance claims."
   ]
  },
  {
   "cell_type": "markdown",
   "id": "bbf4f037",
   "metadata": {},
   "source": [
    "### 20. Is there any relationship between total number of policy claims and the claimed amount?"
   ]
  },
  {
   "cell_type": "markdown",
   "id": "325bbdd2",
   "metadata": {},
   "source": [
    "### 1. Null Hypothesis (H0) :\n",
    "        There is no relationship between total number of policy claims and claimed amount.\n",
    "        \n",
    "### 2. Alternate Hypothesis (HA) :\n",
    "        There is a relationship between total number of policy claims and claimed amount.\n",
    "        \n",
    "### 3. CI & p values :\n",
    "        CI = 95%\n",
    "        p value = 0.05\n",
    "\n",
    "### 4. Perform the test : \n",
    "         Spearsmen Rank\t\n"
   ]
  },
  {
   "cell_type": "code",
   "execution_count": 93,
   "id": "d1d93265",
   "metadata": {},
   "outputs": [
    {
     "data": {
      "text/plain": [
       "SignificanceResult(statistic=0.0038544451848707894, pvalue=0.8994103158394866)"
      ]
     },
     "execution_count": 93,
     "metadata": {},
     "output_type": "execute_result"
    }
   ],
   "source": [
    "stats.spearmanr(cld_cs.total_policy_claims,cld_cs.claim_amount)"
   ]
  },
  {
   "cell_type": "markdown",
   "id": "c0984615",
   "metadata": {},
   "source": [
    "### 5. Rejection Rules: \n",
    " Since p value is greater than 0.05 ,  we do not reject the Null Hypothesis .\n",
    " \n",
    " \n",
    "### 6. Bussiness Conclusion : \n",
    "    There is a strong positive relationship between total number of policy claims and the claimed amount.\n",
    "        "
   ]
  },
  {
   "cell_type": "code",
   "execution_count": null,
   "id": "7c7d4aa6",
   "metadata": {},
   "outputs": [],
   "source": []
  }
 ],
 "metadata": {
  "kernelspec": {
   "display_name": "Python 3 (ipykernel)",
   "language": "python",
   "name": "python3"
  },
  "language_info": {
   "codemirror_mode": {
    "name": "ipython",
    "version": 3
   },
   "file_extension": ".py",
   "mimetype": "text/x-python",
   "name": "python",
   "nbconvert_exporter": "python",
   "pygments_lexer": "ipython3",
   "version": "3.10.9"
  }
 },
 "nbformat": 4,
 "nbformat_minor": 5
}
